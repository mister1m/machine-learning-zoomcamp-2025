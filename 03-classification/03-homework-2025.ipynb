{
 "cells": [
  {
   "cell_type": "code",
   "execution_count": null,
   "id": "b7e6d697",
   "metadata": {},
   "outputs": [],
   "source": [
    "import pandas as pd\n",
    "import numpy as np\n",
    "from sklearn.model_selection import train_test_split\n",
    "from sklearn.metrics import mutual_info_score\n",
    "from sklearn.feature_extraction import DictVectorizer\n",
    "from sklearn.linear_model import LogisticRegression\n",
    "import matplotlib.pyplot as plt\n",
    "import seaborn as sns"
   ]
  },
  {
   "cell_type": "code",
   "execution_count": null,
   "id": "817d5b14",
   "metadata": {},
   "outputs": [],
   "source": [
    "df = pd.read_csv(\"course_lead_scoring.csv\")\n",
    "df.head()"
   ]
  },
  {
   "cell_type": "code",
   "execution_count": null,
   "id": "78851252",
   "metadata": {},
   "outputs": [],
   "source": [
    "df.dtypes"
   ]
  },
  {
   "cell_type": "code",
   "execution_count": null,
   "id": "a56bac69",
   "metadata": {},
   "outputs": [],
   "source": [
    "def fill_na(df, column, value):\n",
    "    df[column] = df[column].fillna(value)\n",
    "    return df\n",
    "\n",
    "df = fill_na(df, ['lead_source', 'industry', 'employment_status', 'location'], 'NA')\n",
    "df = fill_na(df, 'annual_income', 0)"
   ]
  },
  {
   "cell_type": "markdown",
   "id": "7ef11f32",
   "metadata": {},
   "source": [
    "### Question 1\n",
    "\n",
    "What is the most frequent observation (mode) for the column `industry`?\n",
    "\n",
    "- NA\n",
    "- technology\n",
    "- healthcare\n",
    "- __retail__"
   ]
  },
  {
   "cell_type": "code",
   "execution_count": null,
   "id": "4a828dd0",
   "metadata": {},
   "outputs": [],
   "source": [
    "df.industry.value_counts()"
   ]
  },
  {
   "cell_type": "code",
   "execution_count": null,
   "id": "4ab32af1",
   "metadata": {},
   "outputs": [],
   "source": [
    "num_features = ['number_of_courses_viewed', 'annual_income', 'interaction_count', 'lead_score']\n",
    "cat_features = df.select_dtypes(include=['object']).columns.tolist()\n",
    "\n",
    "df_numeric = df[num_features]\n",
    "df_categorical = df[cat_features]\n",
    "\n",
    "corr_matrix = df_numeric.corr()\n",
    "print(corr_matrix)\n",
    "\n",
    "plt.figure(figsize=(8,6))\n",
    "sns.heatmap(corr_matrix, annot=True, cmap='coolwarm', fmt=\".2f\")\n",
    "plt.title(\"Correlation Matrix\")\n",
    "plt.show()"
   ]
  },
  {
   "cell_type": "markdown",
   "id": "4407c61f",
   "metadata": {},
   "source": [
    "What are the two features that have the biggest correlation?\n",
    "\n",
    "- interaction_count and lead_score\n",
    "- number_of_courses_viewed and lead_score\n",
    "- __number_of_courses_viewed and interaction_count__\n",
    "- annual_income and lead_score"
   ]
  },
  {
   "cell_type": "code",
   "execution_count": null,
   "id": "a9f0c945",
   "metadata": {},
   "outputs": [],
   "source": [
    "df_full_train, df_test = train_test_split(df, test_size=0.2, random_state=42)\n",
    "df_train, df_val = train_test_split(df_full_train, test_size=0.25, random_state=42)\n",
    "\n",
    "df_train.reset_index(drop=True, inplace=True)\n",
    "df_val.reset_index(drop=True, inplace=True)\n",
    "df_test.reset_index(drop=True, inplace=True)\n",
    "\n",
    "y_train = df_train.converted.values\n",
    "y_val = df_val.converted.values\n",
    "y_test = df_test.converted.values\n",
    "\n",
    "del df_train['converted']\n",
    "del df_val['converted']\n",
    "del df_test['converted']"
   ]
  },
  {
   "cell_type": "code",
   "execution_count": null,
   "id": "67cd8787",
   "metadata": {},
   "outputs": [],
   "source": [
    "def mutual_info_cat(df, y, cat_features):\n",
    "    mi_scores = {}\n",
    "    for feature in cat_features:\n",
    "        mi = round(mutual_info_score(y, df[feature]),2)\n",
    "        mi_scores[feature] = mi\n",
    "    return mi_scores\n",
    "\n",
    "mutual_info_cat(df_train, y_train, cat_features)"
   ]
  },
  {
   "cell_type": "markdown",
   "id": "d9df6c06",
   "metadata": {},
   "source": [
    "Which of these variables has the biggest mutual information score?\n",
    "  \n",
    "- industry\n",
    "- location\n",
    "- __lead_source__\n",
    "- employment_status"
   ]
  },
  {
   "cell_type": "code",
   "execution_count": null,
   "id": "a56d5d31",
   "metadata": {},
   "outputs": [],
   "source": [
    "train_dicts = df_train.to_dict(orient='records')\n",
    "train_dicts[0]\n",
    "dv = DictVectorizer(sparse=False)\n",
    "X_train = dv.fit_transform(train_dicts)\n",
    "\n",
    "val_dicts = df_val.to_dict(orient='records')\n",
    "X_val = dv.transform(val_dicts)"
   ]
  },
  {
   "cell_type": "code",
   "execution_count": null,
   "id": "0c783806",
   "metadata": {},
   "outputs": [],
   "source": [
    "model = LogisticRegression(solver='liblinear', C=1.0, max_iter=1000, random_state=42)\n",
    "model.fit(X_train, y_train)"
   ]
  },
  {
   "cell_type": "code",
   "execution_count": null,
   "id": "eef3628f",
   "metadata": {},
   "outputs": [],
   "source": [
    "y_pred = model.predict_proba(X_val)[:, 1]\n",
    "y_pred\n",
    "converted_descision = y_pred >= 0.5\n",
    "(y_val == converted_descision).mean()"
   ]
  },
  {
   "cell_type": "markdown",
   "id": "9992ec6b",
   "metadata": {},
   "source": [
    "What accuracy did you get?\n",
    "\n",
    "- 0.64\n",
    "- __0.74__\n",
    "- 0.84\n",
    "- 0.94"
   ]
  },
  {
   "cell_type": "code",
   "execution_count": null,
   "id": "c8bc7128",
   "metadata": {},
   "outputs": [],
   "source": [
    "def train_model(df_train, df_val, y_train, y_val, C=1.0):\n",
    "    train_dicts = df_train.to_dict(orient='records')\n",
    "    dv = DictVectorizer(sparse=False)\n",
    "    X_train = dv.fit_transform(train_dicts)\n",
    "\n",
    "    val_dicts = df_val.to_dict(orient='records')\n",
    "    X_val = dv.transform(val_dicts)\n",
    "\n",
    "    model = LogisticRegression(solver='liblinear', C=C, max_iter=1000, random_state=42)\n",
    "    model.fit(X_train, y_train)\n",
    "\n",
    "    y_pred = model.predict_proba(X_val)[:, 1]\n",
    "    converted_descision = y_pred >= 0.5\n",
    "    accuracy = (y_val == converted_descision).mean()\n",
    "    return accuracy"
   ]
  },
  {
   "cell_type": "code",
   "execution_count": null,
   "id": "afb1d638",
   "metadata": {},
   "outputs": [],
   "source": [
    "print(train_model(df_train, df_val, y_train, y_val))\n",
    "print(train_model(df_train[['lead_source',\n",
    " 'number_of_courses_viewed',\n",
    " 'annual_income',\n",
    " 'employment_status',\n",
    " 'location',\n",
    " 'interaction_count',\n",
    " 'lead_score']],df_val, y_train, y_val))\n",
    "\n",
    "print(train_model(df_train[['lead_source',\n",
    " 'number_of_courses_viewed',\n",
    " 'annual_income',\n",
    " 'industry',\n",
    " 'location',\n",
    " 'interaction_count',\n",
    " 'lead_score']],df_val, y_train, y_val))\n",
    "\n",
    "print(train_model(df_train[['lead_source',\n",
    " 'number_of_courses_viewed',\n",
    " 'annual_income',\n",
    " 'industry',\n",
    " 'location',\n",
    " 'interaction_count',\n",
    " 'employment_status']],df_val, y_train, y_val))"
   ]
  },
  {
   "cell_type": "markdown",
   "id": "0310ae00",
   "metadata": {},
   "source": [
    "\n",
    "Which of following feature has the smallest difference?\n",
    "\n",
    "- __'industry'__\n",
    "- 'employment_status'\n",
    "- 'lead_score'"
   ]
  },
  {
   "cell_type": "code",
   "execution_count": null,
   "id": "9c2227cd",
   "metadata": {},
   "outputs": [],
   "source": [
    "for c in [0.01, 0.1, 1, 10, 100]:\n",
    "    print(f\"C={c}\")\n",
    "    print(train_model(df_train, df_val, y_train, y_val, C=c))"
   ]
  },
  {
   "cell_type": "markdown",
   "id": "884d3a71",
   "metadata": {},
   "source": [
    "Which of these `C` leads to the best accuracy on the validation set?\n",
    "\n",
    "- __0.01__\n",
    "- 0.1\n",
    "- 1\n",
    "- 10\n",
    "- 100\n",
    "\n",
    "**Note**: If there are multiple options, select the smallest `C`."
   ]
  },
  {
   "cell_type": "markdown",
   "id": "efc823b7",
   "metadata": {},
   "source": []
  }
 ],
 "metadata": {
  "kernelspec": {
   "display_name": "Python 3",
   "language": "python",
   "name": "python3"
  },
  "language_info": {
   "codemirror_mode": {
    "name": "ipython",
    "version": 3
   },
   "file_extension": ".py",
   "mimetype": "text/x-python",
   "name": "python",
   "nbconvert_exporter": "python",
   "pygments_lexer": "ipython3",
   "version": "3.13.7"
  }
 },
 "nbformat": 4,
 "nbformat_minor": 5
}
