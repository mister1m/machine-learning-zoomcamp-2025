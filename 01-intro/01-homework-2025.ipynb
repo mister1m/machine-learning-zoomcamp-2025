{
 "cells": [
  {
   "cell_type": "code",
   "execution_count": null,
   "id": "f27aa552",
   "metadata": {},
   "outputs": [],
   "source": [
    "import pandas as pd\n",
    "import numpy as np"
   ]
  },
  {
   "cell_type": "code",
   "execution_count": null,
   "id": "946f36e4",
   "metadata": {},
   "outputs": [],
   "source": [
    "print(pd.__version__)"
   ]
  },
  {
   "cell_type": "markdown",
   "id": "a399f763",
   "metadata": {},
   "source": [
    "read csv file with read_csv()"
   ]
  },
  {
   "cell_type": "code",
   "execution_count": null,
   "id": "2f6552a5",
   "metadata": {},
   "outputs": [],
   "source": [
    "car_df = pd.read_csv(\"car_fuel_efficiency.csv\")\n",
    "car_df.head()"
   ]
  },
  {
   "cell_type": "markdown",
   "id": "542363b2",
   "metadata": {},
   "source": [
    "How many records are in the dataset?\n",
    "Can use .count() or .describe()"
   ]
  },
  {
   "cell_type": "code",
   "execution_count": null,
   "id": "e8a11b94",
   "metadata": {},
   "outputs": [],
   "source": [
    "car_df.describe()"
   ]
  },
  {
   "cell_type": "markdown",
   "id": "871932c3",
   "metadata": {},
   "source": [
    "How many fuel types are presented in the dataset?\n",
    "\n",
    "Unique() to get the unique values in a list or nunique() to get how many unique values there are"
   ]
  },
  {
   "cell_type": "code",
   "execution_count": null,
   "id": "215a4657",
   "metadata": {},
   "outputs": [],
   "source": [
    "car_df.fuel_type.nunique()"
   ]
  },
  {
   "cell_type": "markdown",
   "id": "a2f364ef",
   "metadata": {},
   "source": [
    "How many columns in the dataset have missing values?\n",
    "\n",
    "isnull() to check for missing values and use .sum() to sum the missing values for each column"
   ]
  },
  {
   "cell_type": "code",
   "execution_count": null,
   "id": "1aebfd0d",
   "metadata": {},
   "outputs": [],
   "source": [
    "car_df.isnull().sum()"
   ]
  },
  {
   "cell_type": "markdown",
   "id": "2c469d60",
   "metadata": {},
   "source": [
    "What's the maximum fuel efficiency of cars from Asia?\n",
    "\n",
    "Select only the values that have origin == 'Asia' and the select the max() of column fuel_efficiency_mpg"
   ]
  },
  {
   "cell_type": "code",
   "execution_count": null,
   "id": "acec1a85",
   "metadata": {},
   "outputs": [],
   "source": [
    "car_df[car_df['origin'] == 'Asia'].fuel_efficiency_mpg.max()"
   ]
  },
  {
   "cell_type": "markdown",
   "id": "dbd0c8aa",
   "metadata": {},
   "source": [
    "\n",
    "1. Find the median value of `horsepower` column in the dataset.\n",
    "2. Next, calculate the most frequent value of the same `horsepower` column.\n",
    "3. Use `fillna` method to fill the missing values in `horsepower` column with the most frequent value from the previous step.\n",
    "4. Now, calculate the median value of `horsepower` once again."
   ]
  },
  {
   "cell_type": "code",
   "execution_count": null,
   "id": "fda9b245",
   "metadata": {},
   "outputs": [],
   "source": [
    "car_df.horsepower.median()"
   ]
  },
  {
   "cell_type": "code",
   "execution_count": null,
   "id": "10c1fea8",
   "metadata": {},
   "outputs": [],
   "source": [
    "most_value = car_df['horsepower'].value_counts().idxmax()"
   ]
  },
  {
   "cell_type": "code",
   "execution_count": null,
   "id": "f0a0ce84",
   "metadata": {},
   "outputs": [],
   "source": [
    "car_df['horsepower'] = car_df['horsepower'].fillna(most_value)"
   ]
  },
  {
   "cell_type": "code",
   "execution_count": null,
   "id": "cf44aae1",
   "metadata": {},
   "outputs": [],
   "source": [
    "car_df.horsepower.median()"
   ]
  },
  {
   "cell_type": "markdown",
   "id": "ec110bb4",
   "metadata": {},
   "source": [
    "1. Select all the cars from Asia\n",
    "2. Select only columns `vehicle_weight` and `model_year`\n",
    "3. Select the first 7 values\n",
    "4. Get the underlying NumPy array. Let's call it `X`.\n",
    "5. Compute matrix-matrix multiplication between the transpose of `X` and `X`. To get the transpose, use `X.T`. Let's call the result `XTX`.\n",
    "6. Invert `XTX`.\n",
    "7. Create an array `y` with values `[1100, 1300, 800, 900, 1000, 1100, 1200]`.\n",
    "8. Multiply the inverse of `XTX` with the transpose of `X`, and then multiply the result by `y`. Call the result `w`.\n",
    "9. What's the sum of all the elements of the result?"
   ]
  },
  {
   "cell_type": "code",
   "execution_count": null,
   "id": "51fd7dd3",
   "metadata": {},
   "outputs": [],
   "source": [
    "X = car_df[car_df['origin'] == 'Asia'][['vehicle_weight', 'model_year']].iloc[:7].to_numpy()"
   ]
  },
  {
   "cell_type": "code",
   "execution_count": null,
   "id": "144ca81e",
   "metadata": {},
   "outputs": [],
   "source": [
    "XTX = X.T @ X"
   ]
  },
  {
   "cell_type": "code",
   "execution_count": null,
   "id": "ba15aa8d",
   "metadata": {},
   "outputs": [],
   "source": [
    "inv = np.linalg.inv(XTX)"
   ]
  },
  {
   "cell_type": "code",
   "execution_count": null,
   "id": "8c5340ac",
   "metadata": {},
   "outputs": [],
   "source": [
    "y = np.array([1100, 1300, 800, 900, 1000, 1100, 1200])"
   ]
  },
  {
   "cell_type": "code",
   "execution_count": null,
   "id": "0ab749b0",
   "metadata": {},
   "outputs": [],
   "source": [
    "w = inv @ X.T @ y"
   ]
  },
  {
   "cell_type": "code",
   "execution_count": null,
   "id": "f3cdb8f5",
   "metadata": {},
   "outputs": [],
   "source": [
    "w.sum()"
   ]
  }
 ],
 "metadata": {
  "kernelspec": {
   "display_name": "Python 3",
   "language": "python",
   "name": "python3"
  },
  "language_info": {
   "codemirror_mode": {
    "name": "ipython",
    "version": 3
   },
   "file_extension": ".py",
   "mimetype": "text/x-python",
   "name": "python",
   "nbconvert_exporter": "python",
   "pygments_lexer": "ipython3",
   "version": "3.13.7"
  }
 },
 "nbformat": 4,
 "nbformat_minor": 5
}
