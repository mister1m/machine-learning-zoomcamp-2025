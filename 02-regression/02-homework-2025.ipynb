{
 "cells": [
  {
   "cell_type": "code",
   "execution_count": null,
   "id": "8c22ffe7",
   "metadata": {},
   "outputs": [],
   "source": [
    "import pandas as pd\n",
    "import numpy as np"
   ]
  },
  {
   "cell_type": "code",
   "execution_count": null,
   "id": "d4be445e",
   "metadata": {},
   "outputs": [],
   "source": [
    "car_df = pd.read_csv(\"car_fuel_efficiency.csv\")\n",
    "car_df.head()"
   ]
  },
  {
   "cell_type": "code",
   "execution_count": null,
   "id": "2cbe93ea",
   "metadata": {},
   "outputs": [],
   "source": [
    "car_df_new = car_df[['engine_displacement', 'horsepower', 'vehicle_weight', 'model_year', 'fuel_efficiency_mpg']]"
   ]
  },
  {
   "cell_type": "code",
   "execution_count": null,
   "id": "37dfdad0",
   "metadata": {},
   "outputs": [],
   "source": [
    "import matplotlib.pyplot as plt\n",
    "import seaborn as sns\n",
    "\n",
    "%matplotlib inline"
   ]
  },
  {
   "cell_type": "code",
   "execution_count": null,
   "id": "47acd7d8",
   "metadata": {},
   "outputs": [],
   "source": [
    "sns.histplot(car_df_new['fuel_efficiency_mpg'], bins=30)"
   ]
  },
  {
   "cell_type": "code",
   "execution_count": null,
   "id": "d6cdc58c",
   "metadata": {},
   "outputs": [],
   "source": [
    "car_df_new.isnull().sum()"
   ]
  },
  {
   "cell_type": "code",
   "execution_count": null,
   "id": "815f070f",
   "metadata": {},
   "outputs": [],
   "source": [
    "np.random.seed(42)\n",
    "np.random.shuffle(car_df_new.values)"
   ]
  },
  {
   "cell_type": "code",
   "execution_count": null,
   "id": "ca7bb285",
   "metadata": {},
   "outputs": [],
   "source": [
    "n = len(car_df_new)\n",
    "n_train = int(n * 0.6)\n",
    "n_val = int(n * 0.2)\n",
    "n_test = n - n_train - n_val"
   ]
  },
  {
   "cell_type": "code",
   "execution_count": null,
   "id": "0b0f51f8",
   "metadata": {},
   "outputs": [],
   "source": [
    "df_train = car_df_new[:n_train]\n",
    "df_val = car_df_new[n_train:n_train + n_val]\n",
    "df_test = car_df_new[n_train + n_val:]\n",
    "\n",
    "df_train = df_train.reset_index(drop=True)\n",
    "df_val = df_val.reset_index(drop=True)\n",
    "df_test = df_test.reset_index(drop=True)"
   ]
  },
  {
   "cell_type": "code",
   "execution_count": null,
   "id": "ba3dda94",
   "metadata": {},
   "outputs": [],
   "source": [
    "y_train = df_train.fuel_efficiency_mpg.values\n",
    "y_val = df_val.fuel_efficiency_mpg.values\n",
    "y_test = df_test.fuel_efficiency_mpg.values"
   ]
  },
  {
   "cell_type": "code",
   "execution_count": null,
   "id": "8bda6eaa",
   "metadata": {},
   "outputs": [],
   "source": [
    "def train_linear_regression(X, y):\n",
    "    X = np.array(X)\n",
    "    y = np.array(y)\n",
    "    ones = np.ones(X.shape[0])\n",
    "    X = np.column_stack([ones, X])\n",
    "    XTX = X.T.dot(X)\n",
    "    XTX_inv = np.linalg.inv(XTX)\n",
    "    w = XTX_inv.dot(X.T).dot(y)\n",
    "    return w[0], w[1:]"
   ]
  },
  {
   "cell_type": "code",
   "execution_count": null,
   "id": "59aa1b33",
   "metadata": {},
   "outputs": [],
   "source": [
    "x_train = df_train[['engine_displacement', 'horsepower', 'vehicle_weight', 'model_year']].fillna(0).values"
   ]
  },
  {
   "cell_type": "code",
   "execution_count": null,
   "id": "d42b6dc8",
   "metadata": {},
   "outputs": [],
   "source": [
    "w0, w = train_linear_regression(x_train, y_train)"
   ]
  },
  {
   "cell_type": "code",
   "execution_count": null,
   "id": "5775b146",
   "metadata": {},
   "outputs": [],
   "source": [
    "y_pred = w0 + x_train.dot(w)"
   ]
  },
  {
   "cell_type": "code",
   "execution_count": null,
   "id": "21ca21fb",
   "metadata": {},
   "outputs": [],
   "source": [
    "sns.histplot(y_pred)\n",
    "sns.histplot(y_train)"
   ]
  },
  {
   "cell_type": "code",
   "execution_count": null,
   "id": "a9043ef1",
   "metadata": {},
   "outputs": [],
   "source": [
    "def rmse(y, y_pred):\n",
    "    se = (y - y_pred) ** 2\n",
    "    mse = se.mean() \n",
    "    return round(np.sqrt(mse), 2)"
   ]
  },
  {
   "cell_type": "code",
   "execution_count": null,
   "id": "837daba4",
   "metadata": {},
   "outputs": [],
   "source": [
    "rmse(y_train, y_pred)"
   ]
  },
  {
   "cell_type": "code",
   "execution_count": null,
   "id": "8bc49887",
   "metadata": {},
   "outputs": [],
   "source": [
    "cols = ['engine_displacement', 'horsepower', 'vehicle_weight', 'model_year']\n",
    "X = df_train[cols]\n",
    "x_train_n = X.fillna(X.mean()).to_numpy()\n",
    "\n",
    "w0, w = train_linear_regression(x_train_n, y_train)\n",
    "\n",
    "y_pred = w0 + x_train_n.dot(w)"
   ]
  },
  {
   "cell_type": "code",
   "execution_count": null,
   "id": "ae4f9165",
   "metadata": {},
   "outputs": [],
   "source": [
    "rmse(y_train, y_pred)"
   ]
  },
  {
   "cell_type": "code",
   "execution_count": null,
   "id": "a0359ed4",
   "metadata": {},
   "outputs": [],
   "source": [
    "\n",
    "def prepare_X(df, cols, type):\n",
    "    df_num = df[cols]\n",
    "    if type == 'mean':\n",
    "        df_num = df_num.fillna(df.mean())\n",
    "    elif type == 'zero':\n",
    "        df_num = df_num.fillna(0)\n",
    "    X = df_num.values\n",
    "    return X"
   ]
  },
  {
   "cell_type": "code",
   "execution_count": null,
   "id": "51bf462c",
   "metadata": {},
   "outputs": [],
   "source": [
    "x_train_n = prepare_X(df_train)\n",
    "w0, w = train_linear_regression(x_train_n, y_train)\n",
    "\n",
    "X_val = prepare_X(df_val)\n",
    "y_pred = w0 + X_val.dot(w)\n",
    "\n",
    "rmse(y_val, y_pred)"
   ]
  },
  {
   "cell_type": "code",
   "execution_count": null,
   "id": "6b5ca943",
   "metadata": {},
   "outputs": [],
   "source": [
    "def train_linear_regression_reg(X, y, r=0.01):\n",
    "    X = np.array(X)\n",
    "    y = np.array(y)\n",
    "    ones = np.ones(X.shape[0])\n",
    "    X = np.column_stack([ones, X])\n",
    "\n",
    "    XTX = X.T.dot(X)\n",
    "    XTX = XTX + r * np.eye(XTX.shape[0])\n",
    "\n",
    "    XTX_inv = np.linalg.inv(XTX)\n",
    "\n",
    "    w = XTX_inv.dot(X.T).dot(y)\n",
    "    \n",
    "    return w[0], w[1:]"
   ]
  },
  {
   "cell_type": "code",
   "execution_count": null,
   "id": "b7cd0420",
   "metadata": {},
   "outputs": [],
   "source": [
    "for r in [0, 0.01, 1, 10, 100]:\n",
    "    x_train_n = prepare_X(df_train)\n",
    "    w0, w = train_linear_regression_reg(x_train_n, y_train, r)\n",
    "\n",
    "    X_val = prepare_X(df_val)\n",
    "    y_pred = w0 + X_val.dot(w)\n",
    "\n",
    "    score = rmse(y_val, y_pred)\n",
    "\n",
    "    print(r, w0, score)"
   ]
  },
  {
   "cell_type": "code",
   "execution_count": null,
   "id": "5ddc9439",
   "metadata": {},
   "outputs": [],
   "source": [
    "# Root mean squared error\n",
    "def rmse(y, y_pred):\n",
    "    error = y_pred - y\n",
    "    mse = (error ** 2).mean()\n",
    "    rmse = np.sqrt(mse)\n",
    "    return rmse"
   ]
  },
  {
   "cell_type": "code",
   "execution_count": null,
   "id": "a6b61bf3",
   "metadata": {},
   "outputs": [],
   "source": [
    "def prepare_X(df, feature, fillnan_with):\n",
    "    df_copy = df.copy()\n",
    "    if fillnan_with == 'mean':\n",
    "        df_copy[feature].fillna(value = df_copy[feature].mean(), inplace=True)\n",
    "    elif fillnan_with == 'zero':\n",
    "        df_copy[feature].fillna(value = 0, inplace=True)\n",
    "        \n",
    "    return df_copy.values"
   ]
  },
  {
   "cell_type": "code",
   "execution_count": null,
   "id": "a9af8381",
   "metadata": {},
   "outputs": [],
   "source": []
  },
  {
   "cell_type": "code",
   "execution_count": null,
   "id": "3aebd0bc",
   "metadata": {},
   "outputs": [],
   "source": [
    "\n",
    "\n",
    "def split_data(df, target_column, train_size = 0.6, \n",
    "               val_size = 0.2, seed = 42):\n",
    "    \n",
    "    \n",
    "    n = len(df)\n",
    "    n_train = int(train_size*n)\n",
    "    n_val = int(val_size*n)\n",
    "    \n",
    "    # Shuffle data\n",
    "    np.random.seed(seed)\n",
    "    idx = np.arange(n)\n",
    "    np.random.shuffle(idx)\n",
    "    df_shuffled = df.iloc[idx]\n",
    "\n",
    "    # Split data\n",
    "    X_train = df_shuffled.iloc[:n_train].copy()\n",
    "    X_val = df_shuffled.iloc[n_train:n_train + n_val].copy()\n",
    "    X_test = df_shuffled.iloc[n_train + n_val:].copy()\n",
    "\n",
    "\n",
    "    Y_train = X_train[target_column].values\n",
    "    Y_val = X_val[target_column].values\n",
    "    Y_test = X_test[target_column].values\n",
    "\n",
    "    del X_train[target_column]\n",
    "    del X_val[target_column]\n",
    "    del X_test[target_column]\n",
    "    \n",
    "    col = ['engine_displacement', 'horsepower', 'vehicle_weight', 'model_year']\n",
    "\n",
    "    # Fill missing values with zeros\n",
    "    X_train = prepare_X(X_train[col], 'horsepower', 'zero')\n",
    "    X_val = prepare_X(X_val[col], 'horsepower', 'zero')\n",
    "    X_test = prepare_X(X_test[col], 'horsepower', 'zero')\n",
    "\n",
    "    X = {'train':X_train, 'val':X_val, 'test':X_test}\n",
    "    Y = {'train': Y_train,'val':Y_val,'test': Y_test}\n",
    "\n",
    "    return X,Y"
   ]
  },
  {
   "cell_type": "code",
   "execution_count": null,
   "id": "ca9a1345",
   "metadata": {},
   "outputs": [],
   "source": [
    "seeds = [0, 1, 2, 3, 4, 5, 6, 7, 8, 9]\n",
    "\n",
    "errors = []\n",
    "for seed in seeds:\n",
    "    X,Y = split_data(df = car_df, target_column= 'fuel_efficiency_mpg', seed = seed)\n",
    "    w0, w = train_linear_regression(X['train'], Y['train'])\n",
    "\n",
    "\n",
    "    Y_pred = w0 + X['val'].dot(w)\n",
    "    error = rmse(Y['val'], Y_pred)\n",
    "\n",
    "    print('%10s' %seed, round( error, 3) )\n",
    "    errors.append( error )   \n",
    "\n",
    "print('Std =', round(np.std(errors), 3))"
   ]
  },
  {
   "cell_type": "code",
   "execution_count": null,
   "id": "3c8ef618",
   "metadata": {},
   "outputs": [],
   "source": [
    "X,Y = split_data(df = car_df, target_column= 'fuel_efficiency_mpg', seed = 9)"
   ]
  },
  {
   "cell_type": "code",
   "execution_count": null,
   "id": "6d2d5b21",
   "metadata": {},
   "outputs": [],
   "source": [
    "# Combine train and validation\n",
    "X_train = np.concatenate([ X['train'], X['val']])\n",
    "Y_train = np.concatenate([ Y['train'], Y['val']])"
   ]
  },
  {
   "cell_type": "code",
   "execution_count": null,
   "id": "45c8f4b1",
   "metadata": {},
   "outputs": [],
   "source": [
    "\n",
    "def train_linear_regression_reg(X, y, r=0.001):\n",
    "    X = np.array(X)\n",
    "    y = np.array(y)\n",
    "    ones = np.ones(X.shape[0])\n",
    "    X = np.column_stack([ones, X])\n",
    "\n",
    "    XTX = X.T.dot(X)\n",
    "    XTX = XTX + r * np.eye(XTX.shape[0])\n",
    "\n",
    "    XTX_inv = np.linalg.inv(XTX)\n",
    "\n",
    "    w = XTX_inv.dot(X.T).dot(y)\n",
    "    \n",
    "    return w[0], w[1:]"
   ]
  },
  {
   "cell_type": "code",
   "execution_count": null,
   "id": "d0a2a43c",
   "metadata": {},
   "outputs": [],
   "source": [
    "# Train model on train and validation and use in test set\n",
    "w0, w = train_linear_regression_reg(X_train, Y_train, r = 0.001)\n",
    "\n",
    "\n",
    "Y_pred = w0 + X['test'].dot(w)\n",
    "\n",
    "score = rmse(Y['test'], Y_pred)\n",
    "print('RMSE on test set = ', round( rmse(Y['test'], Y_pred), 4))"
   ]
  },
  {
   "cell_type": "code",
   "execution_count": null,
   "id": "c7c14134",
   "metadata": {},
   "outputs": [],
   "source": []
  }
 ],
 "metadata": {
  "kernelspec": {
   "display_name": "Python 3",
   "language": "python",
   "name": "python3"
  },
  "language_info": {
   "codemirror_mode": {
    "name": "ipython",
    "version": 3
   },
   "file_extension": ".py",
   "mimetype": "text/x-python",
   "name": "python",
   "nbconvert_exporter": "python",
   "pygments_lexer": "ipython3",
   "version": "3.13.7"
  }
 },
 "nbformat": 4,
 "nbformat_minor": 5
}
